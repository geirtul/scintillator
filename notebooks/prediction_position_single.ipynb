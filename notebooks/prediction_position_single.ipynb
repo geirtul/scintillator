{
 "cells": [
  {
   "cell_type": "markdown",
   "metadata": {},
   "source": [
    "# Prediction of origin for single electron event\n",
    "This notebook aims to build a model able to predict where a single electron event originated."
   ]
  },
  {
   "cell_type": "code",
   "execution_count": 39,
   "metadata": {},
   "outputs": [
    {
     "name": "stdout",
     "output_type": "stream",
     "text": [
      "Image data shape: (20000, 16, 16, 1)\n",
      "Energies shape: (20000,)\n",
      "Positions shape: (20000, 2)\n"
     ]
    }
   ],
   "source": [
    "\"\"\"\n",
    "Here are the data files.  For all data files each image and label is on one row.  \n",
    "The first 256 values in each row correspond to the 16x16 detector image and \n",
    "the last 6 values correspond to Energy1, Xpos1, Ypos1, Energy2, Xpos2, Ypos2.  \n",
    "If there is no second particle then Energy2 = 0 and Xpos2 and Ypos2 are both -100.  \n",
    "(When I run my model, I have to reset the -100 to 0).\n",
    " \n",
    "CeBr10kSingle are 10,000 rows of data and labels for single interactions in the detector\n",
    "CeBr10k_1.txt is 10,000 rows of data and labels with a mix of single interactions and double interactions\n",
    "CeBr10.txt is a small file I use which contains 10 single interactions.\n",
    "\"\"\"\n",
    "\n",
    "import numpy as np\n",
    "import matplotlib.pyplot as plt\n",
    "\n",
    "# File import\n",
    "PATH = \"../data/small_sample/\"\n",
    "filenames = [\"CeBr10kSingle_1.txt\", \"CeBr10kSingle_2.txt\", \"CeBr10k_1.txt\", \"CeBr10.txt\"]\n",
    "\n",
    "## single, mix, small define which dataset to load.\n",
    "file_to_load = \"combined_single\"\n",
    "\n",
    "if file_to_load == \"single_1\":\n",
    "    infile = PATH+filenames[0]\n",
    "if file_to_load == \"single_2\":\n",
    "    infile = PATH+filenames[1]\n",
    "if file_to_load == \"mix\":\n",
    "    infile = PATH+filenames[2]\n",
    "if file_to_load == \"small\":\n",
    "    infile = PATH+filenames[3]\n",
    "if file_to_load == \"combined_single\":\n",
    "    infile = PATH+filenames[0]\n",
    "    infile2 = PATH+filenames[1]\n",
    "\n",
    "data = np.loadtxt(infile)\n",
    "\n",
    "if file_to_load == \"combined_single\":\n",
    "    data2 = np.loadtxt(infile2)\n",
    "    data = np.concatenate((data, data2))\n",
    "    \n",
    "\n",
    "n_pixels = data.shape[1] - 6 # the six params at the end are not part of the image\n",
    "n_img = data.shape[0]\n",
    "images = data[:, :n_pixels].reshape(n_img, 16, 16, 1)# reshape to image dims (batch, rows, cols, channels)\n",
    "images = np.transpose(images, axes=[0, 2, 1, 3]) # transpose to correct spatial orientation\n",
    "energy_pos = data[:, n_pixels:] # Energy1, Xpos1, Ypos1, Energy2, Xpos2, Ypos2\n",
    "\n",
    "print(\"Image data shape: {}\".format(images.shape))\n",
    "\n",
    "if file_to_load in [\"single_1\", \"single_2\", \"combined_single\"]:\n",
    "    energy = energy_pos[:,0]\n",
    "    position = energy_pos[:,1:3]\n",
    "    print(\"Energies shape: {}\".format(energy.shape))\n",
    "    print(\"Positions shape: {}\".format(position.shape))\n",
    "    "
   ]
  },
  {
   "cell_type": "markdown",
   "metadata": {},
   "source": [
    "\n",
    "## Set up training and test data"
   ]
  },
  {
   "cell_type": "code",
   "execution_count": 41,
   "metadata": {},
   "outputs": [
    {
     "name": "stdout",
     "output_type": "stream",
     "text": [
      "Training and test data shapes:\n",
      "x_train: (16000, 16, 16, 1)\n",
      "x_test: (4000, 16, 16, 1)\n",
      "y_train: (16000, 2)\n",
      "y_test: (4000, 2)\n"
     ]
    }
   ],
   "source": [
    "from sklearn.model_selection import train_test_split\n",
    "\n",
    "# Split the data into training and test sets\n",
    "x_train, x_test, y_train, y_test = train_test_split(images, position, test_size = 0.2)\n",
    "print(\"Training and test data shapes:\")\n",
    "print(\"x_train: {}\".format(x_train.shape))\n",
    "print(\"x_test: {}\".format(x_test.shape))\n",
    "print(\"y_train: {}\".format(y_train.shape))\n",
    "print(\"y_test: {}\".format(y_test.shape))\n",
    "\n",
    "\n"
   ]
  },
  {
   "cell_type": "markdown",
   "metadata": {},
   "source": [
    "## Build and compile model\n",
    "Using Keras as our framework with Tensorflow backend"
   ]
  },
  {
   "cell_type": "code",
   "execution_count": 48,
   "metadata": {},
   "outputs": [],
   "source": [
    "from keras.models import Sequential\n",
    "from keras.layers import Dense, Dropout, Flatten, Activation\n",
    "from keras.layers import Conv2D, MaxPooling2D\n",
    "from keras import backend\n",
    "\n",
    "# Set up sequetial model based on Keras CIFAR-10 example\n",
    "model = Sequential()\n",
    "\n",
    "# Add layers\n",
    "model.add(Conv2D(32, (3, 3), padding='same',\n",
    "                 input_shape=x_train.shape[1:]))\n",
    "model.add(Activation('relu'))\n",
    "#model.add(Conv2D(32, (3, 3)))\n",
    "#model.add(Activation('relu'))\n",
    "#model.add(MaxPooling2D(pool_size=(2, 2)))\n",
    "#model.add(Dropout(0.25))\n",
    "\n",
    "#model.add(Conv2D(64, (3, 3), padding='same'))\n",
    "#model.add(Activation('relu'))\n",
    "#model.add(Conv2D(64, (3, 3)))\n",
    "#model.add(Activation('relu'))\n",
    "#model.add(MaxPooling2D(pool_size=(2, 2)))\n",
    "#model.add(Dropout(0.25))\n",
    "\n",
    "model.add(Flatten())\n",
    "#model.add(Dense(16))\n",
    "#model.add(Activation('relu'))\n",
    "#model.add(Dropout(0.5))\n",
    "model.add(Dense(2))\n",
    "model.add(Activation('linear'))\n",
    "\n",
    "\n",
    "\n",
    "# Custom definition of R2 score for metrics\n",
    "def r2_keras(y_true, y_pred):\n",
    "    SS_res =  backend.sum(backend.square(y_true - y_pred)) \n",
    "    SS_tot = backend.sum(backend.square(y_true - backend.mean(y_true))) \n",
    "    return ( 1 - SS_res/(SS_tot + backend.epsilon()) )\n",
    "\n",
    "# Compile model\n",
    "model.compile(loss='mse',\n",
    "              optimizer='adam',\n",
    "              metrics=[r2_keras])\n",
    "\n"
   ]
  },
  {
   "cell_type": "markdown",
   "metadata": {},
   "source": [
    "## Train the model\n",
    "We also output the mean squared error and R2-score as evaluation metrics"
   ]
  },
  {
   "cell_type": "code",
   "execution_count": 49,
   "metadata": {},
   "outputs": [
    {
     "name": "stdout",
     "output_type": "stream",
     "text": [
      "Train on 16000 samples, validate on 4000 samples\n",
      "Epoch 1/20\n",
      "16000/16000 [==============================] - 2s 105us/step - loss: 220.1019 - r2_keras: -11.3898 - val_loss: 24.5811 - val_r2_keras: -0.4079\n",
      "Epoch 2/20\n",
      "16000/16000 [==============================] - 1s 85us/step - loss: 14.1846 - r2_keras: 0.1894 - val_loss: 10.2090 - val_r2_keras: 0.4103\n",
      "Epoch 3/20\n",
      "16000/16000 [==============================] - 1s 85us/step - loss: 7.0480 - r2_keras: 0.5971 - val_loss: 5.3812 - val_r2_keras: 0.6894\n",
      "Epoch 4/20\n",
      "16000/16000 [==============================] - 1s 92us/step - loss: 4.2840 - r2_keras: 0.7555 - val_loss: 3.7053 - val_r2_keras: 0.7860\n",
      "Epoch 5/20\n",
      "16000/16000 [==============================] - 1s 93us/step - loss: 2.8371 - r2_keras: 0.8373 - val_loss: 2.5748 - val_r2_keras: 0.8512\n",
      "Epoch 6/20\n",
      "16000/16000 [==============================] - 1s 92us/step - loss: 2.1022 - r2_keras: 0.8800 - val_loss: 2.0085 - val_r2_keras: 0.8838\n",
      "Epoch 7/20\n",
      "16000/16000 [==============================] - 1s 92us/step - loss: 1.5713 - r2_keras: 0.9104 - val_loss: 1.5312 - val_r2_keras: 0.9120\n",
      "Epoch 8/20\n",
      "16000/16000 [==============================] - 1s 93us/step - loss: 1.1759 - r2_keras: 0.9330 - val_loss: 1.3791 - val_r2_keras: 0.9207\n",
      "Epoch 9/20\n",
      "16000/16000 [==============================] - 1s 93us/step - loss: 0.9158 - r2_keras: 0.9479 - val_loss: 0.8386 - val_r2_keras: 0.9517\n",
      "Epoch 10/20\n",
      "16000/16000 [==============================] - 1s 83us/step - loss: 0.7219 - r2_keras: 0.9588 - val_loss: 0.7242 - val_r2_keras: 0.9581\n",
      "Epoch 11/20\n",
      "16000/16000 [==============================] - 1s 83us/step - loss: 0.5209 - r2_keras: 0.9704 - val_loss: 0.4937 - val_r2_keras: 0.9716\n",
      "Epoch 12/20\n",
      "16000/16000 [==============================] - 1s 83us/step - loss: 0.4324 - r2_keras: 0.9756 - val_loss: 0.3795 - val_r2_keras: 0.9782\n",
      "Epoch 13/20\n",
      "16000/16000 [==============================] - 1s 83us/step - loss: 0.3663 - r2_keras: 0.9792 - val_loss: 0.3147 - val_r2_keras: 0.9820\n",
      "Epoch 14/20\n",
      "16000/16000 [==============================] - 1s 82us/step - loss: 0.2803 - r2_keras: 0.9841 - val_loss: 0.2269 - val_r2_keras: 0.9870\n",
      "Epoch 15/20\n",
      "16000/16000 [==============================] - 1s 83us/step - loss: 0.2107 - r2_keras: 0.9880 - val_loss: 0.1843 - val_r2_keras: 0.9894\n",
      "Epoch 16/20\n",
      "16000/16000 [==============================] - 1s 86us/step - loss: 0.1920 - r2_keras: 0.9891 - val_loss: 0.2625 - val_r2_keras: 0.9848\n",
      "Epoch 17/20\n",
      "16000/16000 [==============================] - 1s 90us/step - loss: 0.1692 - r2_keras: 0.9904 - val_loss: 0.1765 - val_r2_keras: 0.9898\n",
      "Epoch 18/20\n",
      "16000/16000 [==============================] - 1s 81us/step - loss: 0.1605 - r2_keras: 0.9909 - val_loss: 0.1622 - val_r2_keras: 0.9906\n",
      "Epoch 19/20\n",
      "16000/16000 [==============================] - 1s 81us/step - loss: 0.1571 - r2_keras: 0.9910 - val_loss: 0.1488 - val_r2_keras: 0.9914\n",
      "Epoch 20/20\n",
      "16000/16000 [==============================] - 1s 82us/step - loss: 0.1439 - r2_keras: 0.9918 - val_loss: 0.1522 - val_r2_keras: 0.9913\n"
     ]
    },
    {
     "data": {
      "text/plain": [
       "<keras.callbacks.History at 0x7f7dc0cc93c8>"
      ]
     },
     "execution_count": 49,
     "metadata": {},
     "output_type": "execute_result"
    }
   ],
   "source": [
    "# Parameters for the model\n",
    "batch_size = 32\n",
    "epochs = 20\n",
    "\n",
    "model.fit(x_train, y_train,\n",
    "              batch_size=batch_size,\n",
    "              epochs=epochs,\n",
    "              validation_data=(x_test, y_test),\n",
    "              shuffle=True)"
   ]
  },
  {
   "cell_type": "markdown",
   "metadata": {},
   "source": [
    "## Predict on test-set and plot some examples\n",
    "To compare predicted positions with actual positions. "
   ]
  },
  {
   "cell_type": "code",
   "execution_count": 50,
   "metadata": {},
   "outputs": [],
   "source": [
    "predicted_pos = model.predict(x_test)"
   ]
  },
  {
   "cell_type": "code",
   "execution_count": 51,
   "metadata": {},
   "outputs": [
    {
     "data": {
      "image/png": "[encoded data removed]",
      "text/plain": [
       "<Figure size 864x864 with 9 Axes>"
      ]
     },
     "metadata": {
      "needs_background": "light"
     },
     "output_type": "display_data"
    }
   ],
   "source": [
    "\n",
    "\n",
    "# Plot some images, with electron origin positions\n",
    "%matplotlib inline\n",
    "\n",
    "index = 100\n",
    "fig, ax = plt.subplots(3, 3, sharex='col', sharey='row', figsize=(12,12))\n",
    "\n",
    "# Reshape test-data for plotting\n",
    "x_plot = x_test.reshape(x_test.shape[0], x_test.shape[1], x_test.shape[2])\n",
    "for i in range(3):\n",
    "    for j in range(3):\n",
    "        # plot image\n",
    "        ax[i, j].imshow(x_plot[index + i*3 + j])\n",
    "        \n",
    "        # plot true origin of event\n",
    "        x = y_test[index + i*3 + j][0]\n",
    "        y = y_test[index + i*3 + j][1]\n",
    "        ax[i, j].plot(x, y, 'rx')\n",
    "        \n",
    "        # plot predicted origin of event\n",
    "        x_pred = predicted_pos[index + i*3 + j][0]\n",
    "        y_pred = predicted_pos[index + i*3 + j][1]\n",
    "        ax[i, j].plot(x_pred, y_pred, 'wx')\n",
    "plt.show()"
   ]
  }
 ],
 "metadata": {
  "kernelspec": {
   "display_name": "Python 3",
   "language": "python",
   "name": "python3"
  },
  "language_info": {
   "codemirror_mode": {
    "name": "ipython",
    "version": 3
   },
   "file_extension": ".py",
   "mimetype": "text/x-python",
   "name": "python",
   "nbconvert_exporter": "python",
   "pygments_lexer": "ipython3",
   "version": "3.7.3"
  }
 },
 "nbformat": 4,
 "nbformat_minor": 2
}
