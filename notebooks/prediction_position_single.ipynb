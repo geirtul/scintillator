{
 "cells": [
  {
   "cell_type": "markdown",
   "metadata": {},
   "source": [
    "# Prediction of origin for single electron event\n",
    "This notebook aims to build a model able to predict where a single electron event originated."
   ]
  },
  {
   "cell_type": "code",
   "execution_count": 1,
   "metadata": {},
   "outputs": [
    {
     "name": "stdout",
     "output_type": "stream",
     "text": [
      "Image data shape: (20000, 16, 16, 1)\n",
      "Energies shape: (20000, 2)\n",
      "Positions shape: (20000, 4)\n",
      "Single positions shape: (20000, 2)\n"
     ]
    }
   ],
   "source": [
    "\"\"\"\n",
    "Here are the data files.  For all data files each image and label is on one row.  \n",
    "The first 256 values in each row correspond to the 16x16 detector image and \n",
    "the last 6 values correspond to Energy1, Xpos1, Ypos1, Energy2, Xpos2, Ypos2.  \n",
    "If there is no second particle then Energy2 = 0 and Xpos2 and Ypos2 are both -100.  \n",
    "(When I run my model, I have to reset the -100 to 0).\n",
    " \n",
    "CeBr10kSingle are 10,000 rows of data and labels for single interactions in the detector\n",
    "CeBr10k_1.txt is 10,000 rows of data and labels with a mix of single interactions and double interactions\n",
    "CeBr10.txt is a small file I use which contains 10 single interactions.\n",
    "\"\"\"\n",
    "\n",
    "import numpy as np\n",
    "import matplotlib.pyplot as plt\n",
    "from data_functions import separate_simulated_data\n",
    "\n",
    "# File import\n",
    "PATH = \"../data/small_sample/\"\n",
    "filenames = [\"CeBr10kSingle_1.txt\", \"CeBr10kSingle_2.txt\", \"CeBr10k_1.txt\", \"CeBr10.txt\"]\n",
    "\n",
    "## single, mix, small define which dataset to load.\n",
    "file_to_load = \"combined_single\"\n",
    "\n",
    "if file_to_load == \"single_1\":\n",
    "    infile = PATH+filenames[0]\n",
    "if file_to_load == \"single_2\":\n",
    "    infile = PATH+filenames[1]\n",
    "if file_to_load == \"mix\":\n",
    "    infile = PATH+filenames[2]\n",
    "if file_to_load == \"small\":\n",
    "    infile = PATH+filenames[3]\n",
    "if file_to_load == \"combined_single\":\n",
    "    infile = PATH+filenames[0]\n",
    "    infile2 = PATH+filenames[1]\n",
    "\n",
    "data = np.loadtxt(infile)\n",
    "\n",
    "if file_to_load == \"combined_single\":\n",
    "    data2 = np.loadtxt(infile2)\n",
    "    data = np.concatenate((data, data2))\n",
    "    \n",
    "images, energies, positions = separate_simulated_data(data)\n",
    "single_positions = positions[:,:2]\n",
    "\n",
    "\n",
    "print(\"Image data shape: {}\".format(images.shape))\n",
    "print(\"Energies shape: {}\".format(energies.shape))\n",
    "print(\"Positions shape: {}\".format(positions.shape))\n",
    "print(\"Single positions shape: {}\".format(single_positions.shape))\n",
    "      "
   ]
  },
  {
   "cell_type": "markdown",
   "metadata": {},
   "source": [
    "\n",
    "## Set up training and test data"
   ]
  },
  {
   "cell_type": "code",
   "execution_count": 2,
   "metadata": {},
   "outputs": [
    {
     "name": "stdout",
     "output_type": "stream",
     "text": [
      "Training and test data shapes:\n",
      "x_train: (16000, 16, 16, 1)\n",
      "x_test: (4000, 16, 16, 1)\n",
      "y_train: (16000, 2)\n",
      "y_test: (4000, 2)\n"
     ]
    }
   ],
   "source": [
    "from sklearn.model_selection import train_test_split\n",
    "\n",
    "# Split the data into training and test sets\n",
    "x_train, x_test, y_train, y_test = train_test_split(images, single_positions, test_size = 0.2)\n",
    "print(\"Training and test data shapes:\")\n",
    "print(\"x_train: {}\".format(x_train.shape))\n",
    "print(\"x_test: {}\".format(x_test.shape))\n",
    "print(\"y_train: {}\".format(y_train.shape))\n",
    "print(\"y_test: {}\".format(y_test.shape))\n",
    "\n",
    "\n"
   ]
  },
  {
   "cell_type": "markdown",
   "metadata": {},
   "source": [
    "## Build and compile model\n",
    "Using Keras as our framework with Tensorflow backend"
   ]
  },
  {
   "cell_type": "code",
   "execution_count": 8,
   "metadata": {},
   "outputs": [
    {
     "name": "stdout",
     "output_type": "stream",
     "text": [
      "_________________________________________________________________\n",
      "Layer (type)                 Output Shape              Param #   \n",
      "=================================================================\n",
      "conv2d_3 (Conv2D)            (None, 16, 16, 32)        320       \n",
      "_________________________________________________________________\n",
      "activation_5 (Activation)    (None, 16, 16, 32)        0         \n",
      "_________________________________________________________________\n",
      "flatten_3 (Flatten)          (None, 8192)              0         \n",
      "_________________________________________________________________\n",
      "dense_3 (Dense)              (None, 2)                 16386     \n",
      "_________________________________________________________________\n",
      "activation_6 (Activation)    (None, 2)                 0         \n",
      "=================================================================\n",
      "Total params: 16,706\n",
      "Trainable params: 16,706\n",
      "Non-trainable params: 0\n",
      "_________________________________________________________________\n",
      "None\n"
     ]
    }
   ],
   "source": [
    "from keras.models import Sequential\n",
    "from keras.layers import Dense, Dropout, Flatten, Activation\n",
    "from keras.layers import Conv2D, MaxPooling2D\n",
    "from keras import backend\n",
    "\n",
    "# Set up sequetial model based on Keras CIFAR-10 example\n",
    "model = Sequential()\n",
    "\n",
    "# Add layers\n",
    "model.add(Conv2D(32, (3, 3), padding='same',\n",
    "                 input_shape=x_train.shape[1:]))\n",
    "model.add(Activation('relu'))\n",
    "#model.add(Conv2D(32, (3, 3)))\n",
    "#model.add(Activation('relu'))\n",
    "#model.add(MaxPooling2D(pool_size=(2, 2)))\n",
    "#model.add(Dropout(0.25))\n",
    "\n",
    "#model.add(Conv2D(64, (3, 3), padding='same'))\n",
    "#model.add(Activation('relu'))\n",
    "#model.add(Conv2D(64, (3, 3)))\n",
    "#model.add(Activation('relu'))\n",
    "#model.add(MaxPooling2D(pool_size=(2, 2)))\n",
    "#model.add(Dropout(0.25))\n",
    "\n",
    "model.add(Flatten())\n",
    "#model.add(Dense(16))\n",
    "#model.add(Activation('relu'))\n",
    "#model.add(Dropout(0.5))\n",
    "model.add(Dense(2))\n",
    "model.add(Activation('linear'))\n",
    "\n",
    "\n",
    "\n",
    "# Custom definition of R2 score for metrics\n",
    "def r2_keras(y_true, y_pred):\n",
    "    SS_res =  backend.sum(backend.square(y_true - y_pred)) \n",
    "    SS_tot = backend.sum(backend.square(y_true - backend.mean(y_true))) \n",
    "    return ( 1 - SS_res/(SS_tot + backend.epsilon()) )\n",
    "\n",
    "# Compile model\n",
    "model.compile(loss='mse',\n",
    "              optimizer='adam',\n",
    "              metrics=[r2_keras])\n",
    "\n",
    "# Output summary\n",
    "print(model.summary())\n",
    "\n"
   ]
  },
  {
   "cell_type": "markdown",
   "metadata": {},
   "source": [
    "## Train the model\n",
    "We also output the mean squared error and R2-score as evaluation metrics"
   ]
  },
  {
   "cell_type": "code",
   "execution_count": 4,
   "metadata": {},
   "outputs": [
    {
     "name": "stderr",
     "output_type": "stream",
     "text": [
      "W0803 11:51:21.178301 140620880344704 deprecation_wrapper.py:119] From /home/ulvik/.local/lib/python3.7/site-packages/keras/backend/tensorflow_backend.py:986: The name tf.assign_add is deprecated. Please use tf.compat.v1.assign_add instead.\n",
      "\n",
      "W0803 11:51:21.272087 140620880344704 deprecation_wrapper.py:119] From /home/ulvik/.local/lib/python3.7/site-packages/keras/backend/tensorflow_backend.py:973: The name tf.assign is deprecated. Please use tf.compat.v1.assign instead.\n",
      "\n"
     ]
    },
    {
     "name": "stdout",
     "output_type": "stream",
     "text": [
      "Train on 16000 samples, validate on 4000 samples\n",
      "Epoch 1/25\n",
      "16000/16000 [==============================] - 3s 184us/step - loss: 164.1928 - r2_keras: -8.5444 - val_loss: 16.9850 - val_r2_keras: 0.0477\n",
      "Epoch 2/25\n",
      "16000/16000 [==============================] - 3s 159us/step - loss: 9.4959 - r2_keras: 0.4577 - val_loss: 7.0274 - val_r2_keras: 0.6047\n",
      "Epoch 3/25\n",
      "16000/16000 [==============================] - 3s 177us/step - loss: 4.8699 - r2_keras: 0.7213 - val_loss: 3.9328 - val_r2_keras: 0.7777\n",
      "Epoch 4/25\n",
      "16000/16000 [==============================] - 3s 183us/step - loss: 3.0800 - r2_keras: 0.8238 - val_loss: 2.5386 - val_r2_keras: 0.8565\n",
      "Epoch 5/25\n",
      "16000/16000 [==============================] - 2s 155us/step - loss: 2.1889 - r2_keras: 0.8749 - val_loss: 1.9184 - val_r2_keras: 0.8913\n",
      "Epoch 6/25\n",
      "16000/16000 [==============================] - 2s 156us/step - loss: 1.6457 - r2_keras: 0.9054 - val_loss: 1.4275 - val_r2_keras: 0.9196\n",
      "Epoch 7/25\n",
      "16000/16000 [==============================] - 3s 207us/step - loss: 1.3795 - r2_keras: 0.9208 - val_loss: 1.0912 - val_r2_keras: 0.9381\n",
      "Epoch 8/25\n",
      "16000/16000 [==============================] - 3s 196us/step - loss: 0.8968 - r2_keras: 0.9486 - val_loss: 0.8548 - val_r2_keras: 0.9518\n",
      "Epoch 9/25\n",
      "16000/16000 [==============================] - 2s 156us/step - loss: 0.7234 - r2_keras: 0.9585 - val_loss: 0.6495 - val_r2_keras: 0.9632\n",
      "Epoch 10/25\n",
      "16000/16000 [==============================] - 2s 156us/step - loss: 0.5592 - r2_keras: 0.9681 - val_loss: 0.4996 - val_r2_keras: 0.9718\n",
      "Epoch 11/25\n",
      "16000/16000 [==============================] - 3s 156us/step - loss: 0.4394 - r2_keras: 0.9749 - val_loss: 0.4011 - val_r2_keras: 0.9773\n",
      "Epoch 12/25\n",
      "16000/16000 [==============================] - 3s 165us/step - loss: 0.3292 - r2_keras: 0.9812 - val_loss: 0.2580 - val_r2_keras: 0.9855\n",
      "Epoch 13/25\n",
      "16000/16000 [==============================] - 2s 156us/step - loss: 0.2635 - r2_keras: 0.9848 - val_loss: 0.2187 - val_r2_keras: 0.9876\n",
      "Epoch 14/25\n",
      "16000/16000 [==============================] - 3s 157us/step - loss: 0.2122 - r2_keras: 0.9880 - val_loss: 0.1976 - val_r2_keras: 0.9889\n",
      "Epoch 15/25\n",
      "16000/16000 [==============================] - 3s 158us/step - loss: 0.1682 - r2_keras: 0.9904 - val_loss: 0.1394 - val_r2_keras: 0.9921\n",
      "Epoch 16/25\n",
      "16000/16000 [==============================] - 3s 158us/step - loss: 0.1524 - r2_keras: 0.9913 - val_loss: 0.1489 - val_r2_keras: 0.9916\n",
      "Epoch 17/25\n",
      "16000/16000 [==============================] - 3s 160us/step - loss: 0.1447 - r2_keras: 0.9917 - val_loss: 0.1199 - val_r2_keras: 0.9932\n",
      "Epoch 18/25\n",
      "16000/16000 [==============================] - 3s 158us/step - loss: 0.1232 - r2_keras: 0.9930 - val_loss: 0.1323 - val_r2_keras: 0.9925\n",
      "Epoch 19/25\n",
      "16000/16000 [==============================] - 3s 159us/step - loss: 0.1210 - r2_keras: 0.9931 - val_loss: 0.1027 - val_r2_keras: 0.9942\n",
      "Epoch 20/25\n",
      "16000/16000 [==============================] - 3s 162us/step - loss: 0.1094 - r2_keras: 0.9938 - val_loss: 0.0872 - val_r2_keras: 0.9951\n",
      "Epoch 21/25\n",
      "16000/16000 [==============================] - 3s 160us/step - loss: 0.1063 - r2_keras: 0.9940 - val_loss: 0.1418 - val_r2_keras: 0.9920\n",
      "Epoch 22/25\n",
      "16000/16000 [==============================] - 3s 158us/step - loss: 0.1057 - r2_keras: 0.9939 - val_loss: 0.0884 - val_r2_keras: 0.9950\n",
      "Epoch 23/25\n",
      "16000/16000 [==============================] - 3s 197us/step - loss: 0.1046 - r2_keras: 0.9940 - val_loss: 0.1916 - val_r2_keras: 0.9891\n",
      "Epoch 24/25\n",
      "16000/16000 [==============================] - 4s 248us/step - loss: 0.1064 - r2_keras: 0.9939 - val_loss: 0.1091 - val_r2_keras: 0.9938\n",
      "Epoch 25/25\n",
      "16000/16000 [==============================] - 4s 246us/step - loss: 0.0978 - r2_keras: 0.9944 - val_loss: 0.0747 - val_r2_keras: 0.9958\n"
     ]
    },
    {
     "data": {
      "text/plain": [
       "<keras.callbacks.History at 0x7fe47afebf10>"
      ]
     },
     "execution_count": 4,
     "metadata": {},
     "output_type": "execute_result"
    }
   ],
   "source": [
    "# Parameters for the model\n",
    "batch_size = 32\n",
    "epochs = 25\n",
    "\n",
    "model.fit(x_train, y_train,\n",
    "              batch_size=batch_size,\n",
    "              epochs=epochs,\n",
    "              validation_data=(x_test, y_test),\n",
    "              shuffle=True)"
   ]
  },
  {
   "cell_type": "markdown",
   "metadata": {},
   "source": [
    "## Predict on test-set and plot some examples\n",
    "To compare predicted positions with actual positions. "
   ]
  },
  {
   "cell_type": "code",
   "execution_count": 5,
   "metadata": {},
   "outputs": [],
   "source": [
    "predicted_pos = model.predict(x_test)"
   ]
  },
  {
   "cell_type": "code",
   "execution_count": 6,
   "metadata": {},
   "outputs": [
    {
     "data": {
      "image/png": "[encoded data removed]",
      "text/plain": [
       "<Figure size 864x864 with 9 Axes>"
      ]
     },
     "metadata": {
      "needs_background": "light"
     },
     "output_type": "display_data"
    }
   ],
   "source": [
    "\n",
    "\n",
    "# Plot some images, with electron origin positions\n",
    "%matplotlib inline\n",
    "\n",
    "index = 100\n",
    "fig, ax = plt.subplots(3, 3, sharex='col', sharey='row', figsize=(12,12))\n",
    "\n",
    "# Reshape test-data for plotting\n",
    "x_plot = x_test.reshape(x_test.shape[0], x_test.shape[1], x_test.shape[2])\n",
    "for i in range(3):\n",
    "    for j in range(3):\n",
    "        # plot image\n",
    "        ax[i, j].imshow(x_plot[index + i*3 + j])\n",
    "        \n",
    "        # plot true origin of event\n",
    "        x = y_test[index + i*3 + j][0]\n",
    "        y = y_test[index + i*3 + j][1]\n",
    "        ax[i, j].plot(x, y, 'rx')\n",
    "        \n",
    "        # plot predicted origin of event\n",
    "        x_pred = predicted_pos[index + i*3 + j][0]\n",
    "        y_pred = predicted_pos[index + i*3 + j][1]\n",
    "        ax[i, j].plot(x_pred, y_pred, 'wx')\n",
    "plt.show()"
   ]
  }
 ],
 "metadata": {
  "kernelspec": {
   "display_name": "Python 3",
   "language": "python",
   "name": "python3"
  },
  "language_info": {
   "codemirror_mode": {
    "name": "ipython",
    "version": 3
   },
   "file_extension": ".py",
   "mimetype": "text/x-python",
   "name": "python",
   "nbconvert_exporter": "python",
   "pygments_lexer": "ipython3",
   "version": "3.7.4"
  }
 },
 "nbformat": 4,
 "nbformat_minor": 2
}
