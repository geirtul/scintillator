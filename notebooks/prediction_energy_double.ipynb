{
 "cells": [
  {
   "cell_type": "markdown",
   "metadata": {},
   "source": [
    "# Prediction of energy for single electron event\n",
    "This notebook aims to build a model able to predict the energy of the electrons in a double-electron event.\n",
    "\n",
    "## TODO / Status"
   ]
  },
  {
   "cell_type": "code",
   "execution_count": 1,
   "metadata": {},
   "outputs": [
    {
     "name": "stdout",
     "output_type": "stream",
     "text": [
      "Image data shape: (4998, 16, 16, 1)\n",
      "Energies shape: (4998, 2)\n",
      "Positions shape: (4998, 4)\n"
     ]
    }
   ],
   "source": [
    "\"\"\"\n",
    "Here are the data files.  For all data files each image and label is on one row.  \n",
    "The first 256 values in each row correspond to the 16x16 detector image and \n",
    "the last 6 values correspond to Energy1, Xpos1, Ypos1, Energy2, Xpos2, Ypos2.  \n",
    "If there is no second particle then Energy2 = 0 and Xpos2 and Ypos2 are both -100.  \n",
    "(When I run my model, I have to reset the -100 to 0).\n",
    " \n",
    "CeBr10kSingle are 10,000 rows of data and labels for single interactions in the detector\n",
    "CeBr10k_1.txt is 10,000 rows of data and labels with a mix of single interactions and double interactions\n",
    "CeBr10.txt is a small file I use which contains 10 single interactions.\n",
    "\"\"\"\n",
    "\n",
    "import numpy as np\n",
    "import matplotlib.pyplot as plt\n",
    "from data_functions import separate_simulated_data\n",
    "\n",
    "# File import\n",
    "PATH = \"../data/small_sample/\"\n",
    "filenames = [\"CeBr10kSingle_1.txt\", \"CeBr10kSingle_2.txt\", \"CeBr10k_1.txt\", \"CeBr10.txt\"]\n",
    "\n",
    "## single, mix, small define which dataset to load.\n",
    "file_to_load = \"mix\"\n",
    "\n",
    "if file_to_load == \"single_1\":\n",
    "    infile = PATH+filenames[0]\n",
    "if file_to_load == \"single_2\":\n",
    "    infile = PATH+filenames[1]\n",
    "if file_to_load == \"mix\":\n",
    "    infile = PATH+filenames[2]\n",
    "if file_to_load == \"small\":\n",
    "    infile = PATH+filenames[3]\n",
    "if file_to_load == \"combined_single\":\n",
    "    infile = PATH+filenames[0]\n",
    "    infile2 = PATH+filenames[1]\n",
    "\n",
    "data = np.loadtxt(infile)\n",
    "\n",
    "if file_to_load == \"combined_single\":\n",
    "    data2 = np.loadtxt(infile2)\n",
    "    data = np.concatenate((data, data2))\n",
    "\n",
    "# Extract the data containing double events. \n",
    "# data[:, -3] is Energy2, which is 0 if the data is a single event\n",
    "double_events = data[np.where(data[:,-3] != 0)]\n",
    "images, energies, positions = separate_simulated_data(double_events)\n",
    "\n",
    "\n",
    "\n",
    "\n",
    "print(\"Image data shape: {}\".format(images.shape))\n",
    "print(\"Energies shape: {}\".format(energies.shape))\n",
    "print(\"Positions shape: {}\".format(positions.shape))\n",
    "      "
   ]
  },
  {
   "cell_type": "markdown",
   "metadata": {},
   "source": [
    "\n",
    "## Set up training and test data"
   ]
  },
  {
   "cell_type": "code",
   "execution_count": 2,
   "metadata": {},
   "outputs": [
    {
     "name": "stdout",
     "output_type": "stream",
     "text": [
      "Training and test data shapes:\n",
      "x_train: (4498, 16, 16, 1)\n",
      "x_test: (500, 16, 16, 1)\n",
      "y_train: (4498, 2)\n",
      "y_test: (500, 2)\n"
     ]
    }
   ],
   "source": [
    "from sklearn.model_selection import train_test_split\n",
    "\n",
    "# Split the data into training and test sets\n",
    "x_train, x_test, y_train, y_test = train_test_split(images, energies, test_size = 0.1)\n",
    "print(\"Training and test data shapes:\")\n",
    "print(\"x_train: {}\".format(x_train.shape))\n",
    "print(\"x_test: {}\".format(x_test.shape))\n",
    "print(\"y_train: {}\".format(y_train.shape))\n",
    "print(\"y_test: {}\".format(y_test.shape))\n",
    "\n",
    "\n"
   ]
  },
  {
   "cell_type": "markdown",
   "metadata": {},
   "source": [
    "## Build and compile model\n",
    "Using Keras as our framework with Tensorflow backend"
   ]
  },
  {
   "cell_type": "code",
   "execution_count": 3,
   "metadata": {},
   "outputs": [
    {
     "name": "stderr",
     "output_type": "stream",
     "text": [
      "Using TensorFlow backend.\n",
      "/home/ulvik/.local/lib/python3.7/site-packages/tensorflow/python/framework/dtypes.py:516: FutureWarning: Passing (type, 1) or '1type' as a synonym of type is deprecated; in a future version of numpy, it will be understood as (type, (1,)) / '(1,)type'.\n",
      "  _np_qint8 = np.dtype([(\"qint8\", np.int8, 1)])\n",
      "/home/ulvik/.local/lib/python3.7/site-packages/tensorflow/python/framework/dtypes.py:517: FutureWarning: Passing (type, 1) or '1type' as a synonym of type is deprecated; in a future version of numpy, it will be understood as (type, (1,)) / '(1,)type'.\n",
      "  _np_quint8 = np.dtype([(\"quint8\", np.uint8, 1)])\n",
      "/home/ulvik/.local/lib/python3.7/site-packages/tensorflow/python/framework/dtypes.py:518: FutureWarning: Passing (type, 1) or '1type' as a synonym of type is deprecated; in a future version of numpy, it will be understood as (type, (1,)) / '(1,)type'.\n",
      "  _np_qint16 = np.dtype([(\"qint16\", np.int16, 1)])\n",
      "/home/ulvik/.local/lib/python3.7/site-packages/tensorflow/python/framework/dtypes.py:519: FutureWarning: Passing (type, 1) or '1type' as a synonym of type is deprecated; in a future version of numpy, it will be understood as (type, (1,)) / '(1,)type'.\n",
      "  _np_quint16 = np.dtype([(\"quint16\", np.uint16, 1)])\n",
      "/home/ulvik/.local/lib/python3.7/site-packages/tensorflow/python/framework/dtypes.py:520: FutureWarning: Passing (type, 1) or '1type' as a synonym of type is deprecated; in a future version of numpy, it will be understood as (type, (1,)) / '(1,)type'.\n",
      "  _np_qint32 = np.dtype([(\"qint32\", np.int32, 1)])\n",
      "/home/ulvik/.local/lib/python3.7/site-packages/tensorflow/python/framework/dtypes.py:525: FutureWarning: Passing (type, 1) or '1type' as a synonym of type is deprecated; in a future version of numpy, it will be understood as (type, (1,)) / '(1,)type'.\n",
      "  np_resource = np.dtype([(\"resource\", np.ubyte, 1)])\n",
      "/home/ulvik/.local/lib/python3.7/site-packages/tensorboard/compat/tensorflow_stub/dtypes.py:541: FutureWarning: Passing (type, 1) or '1type' as a synonym of type is deprecated; in a future version of numpy, it will be understood as (type, (1,)) / '(1,)type'.\n",
      "  _np_qint8 = np.dtype([(\"qint8\", np.int8, 1)])\n",
      "/home/ulvik/.local/lib/python3.7/site-packages/tensorboard/compat/tensorflow_stub/dtypes.py:542: FutureWarning: Passing (type, 1) or '1type' as a synonym of type is deprecated; in a future version of numpy, it will be understood as (type, (1,)) / '(1,)type'.\n",
      "  _np_quint8 = np.dtype([(\"quint8\", np.uint8, 1)])\n",
      "/home/ulvik/.local/lib/python3.7/site-packages/tensorboard/compat/tensorflow_stub/dtypes.py:543: FutureWarning: Passing (type, 1) or '1type' as a synonym of type is deprecated; in a future version of numpy, it will be understood as (type, (1,)) / '(1,)type'.\n",
      "  _np_qint16 = np.dtype([(\"qint16\", np.int16, 1)])\n",
      "/home/ulvik/.local/lib/python3.7/site-packages/tensorboard/compat/tensorflow_stub/dtypes.py:544: FutureWarning: Passing (type, 1) or '1type' as a synonym of type is deprecated; in a future version of numpy, it will be understood as (type, (1,)) / '(1,)type'.\n",
      "  _np_quint16 = np.dtype([(\"quint16\", np.uint16, 1)])\n",
      "/home/ulvik/.local/lib/python3.7/site-packages/tensorboard/compat/tensorflow_stub/dtypes.py:545: FutureWarning: Passing (type, 1) or '1type' as a synonym of type is deprecated; in a future version of numpy, it will be understood as (type, (1,)) / '(1,)type'.\n",
      "  _np_qint32 = np.dtype([(\"qint32\", np.int32, 1)])\n",
      "/home/ulvik/.local/lib/python3.7/site-packages/tensorboard/compat/tensorflow_stub/dtypes.py:550: FutureWarning: Passing (type, 1) or '1type' as a synonym of type is deprecated; in a future version of numpy, it will be understood as (type, (1,)) / '(1,)type'.\n",
      "  np_resource = np.dtype([(\"resource\", np.ubyte, 1)])\n",
      "WARNING: Logging before flag parsing goes to stderr.\n",
      "W0803 14:28:46.190891 140437615535744 deprecation_wrapper.py:119] From /home/ulvik/.local/lib/python3.7/site-packages/keras/backend/tensorflow_backend.py:74: The name tf.get_default_graph is deprecated. Please use tf.compat.v1.get_default_graph instead.\n",
      "\n",
      "W0803 14:28:46.207914 140437615535744 deprecation_wrapper.py:119] From /home/ulvik/.local/lib/python3.7/site-packages/keras/backend/tensorflow_backend.py:517: The name tf.placeholder is deprecated. Please use tf.compat.v1.placeholder instead.\n",
      "\n",
      "W0803 14:28:46.213775 140437615535744 deprecation_wrapper.py:119] From /home/ulvik/.local/lib/python3.7/site-packages/keras/backend/tensorflow_backend.py:4138: The name tf.random_uniform is deprecated. Please use tf.random.uniform instead.\n",
      "\n",
      "W0803 14:28:46.289166 140437615535744 deprecation_wrapper.py:119] From /home/ulvik/.local/lib/python3.7/site-packages/keras/optimizers.py:790: The name tf.train.Optimizer is deprecated. Please use tf.compat.v1.train.Optimizer instead.\n",
      "\n"
     ]
    },
    {
     "name": "stdout",
     "output_type": "stream",
     "text": [
      "_________________________________________________________________\n",
      "Layer (type)                 Output Shape              Param #   \n",
      "=================================================================\n",
      "conv2d_1 (Conv2D)            (None, 16, 16, 32)        320       \n",
      "_________________________________________________________________\n",
      "activation_1 (Activation)    (None, 16, 16, 32)        0         \n",
      "_________________________________________________________________\n",
      "conv2d_2 (Conv2D)            (None, 14, 14, 32)        9248      \n",
      "_________________________________________________________________\n",
      "activation_2 (Activation)    (None, 14, 14, 32)        0         \n",
      "_________________________________________________________________\n",
      "flatten_1 (Flatten)          (None, 6272)              0         \n",
      "_________________________________________________________________\n",
      "dense_1 (Dense)              (None, 2)                 12546     \n",
      "_________________________________________________________________\n",
      "activation_3 (Activation)    (None, 2)                 0         \n",
      "=================================================================\n",
      "Total params: 22,114\n",
      "Trainable params: 22,114\n",
      "Non-trainable params: 0\n",
      "_________________________________________________________________\n",
      "None\n"
     ]
    }
   ],
   "source": [
    "from keras.models import Sequential\n",
    "from keras.layers import Dense, Dropout, Flatten, Activation\n",
    "from keras.layers import Conv2D, MaxPooling2D\n",
    "from keras import backend\n",
    "import warnings\n",
    "\n",
    "# Set up sequetial model like Keras CIFAR-10 example\n",
    "model = Sequential()\n",
    "\n",
    "# Add layers\n",
    "model.add(Conv2D(32, (3, 3), padding='same',\n",
    "                 input_shape=x_train.shape[1:]))\n",
    "model.add(Activation('relu'))\n",
    "model.add(Conv2D(32, (3, 3)))\n",
    "model.add(Activation('relu'))\n",
    "#model.add(MaxPooling2D(pool_size=(2, 2)))\n",
    "#model.add(Dropout(0.25))\n",
    "\n",
    "#model.add(Conv2D(64, (3, 3), padding='same'))\n",
    "#model.add(Activation('relu'))\n",
    "#model.add(Conv2D(64, (3, 3)))\n",
    "#model.add(Activation('relu'))\n",
    "#model.add(MaxPooling2D(pool_size=(2, 2)))\n",
    "#model.add(Dropout(0.25))\n",
    "\n",
    "model.add(Flatten())\n",
    "#model.add(Dense(128))\n",
    "#model.add(Activation('relu'))\n",
    "#model.add(Dropout(0.5))\n",
    "model.add(Dense(2))\n",
    "model.add(Activation('linear'))\n",
    "\n",
    "\n",
    "\n",
    "# Custom definition of R2 score for metrics\n",
    "def r2_keras(y_true, y_pred):\n",
    "    SS_res =  backend.sum(backend.square(y_true - y_pred)) \n",
    "    SS_tot = backend.sum(backend.square(y_true - backend.mean(y_true))) \n",
    "    return ( 1 - SS_res/(SS_tot + backend.epsilon()) )\n",
    "\n",
    "# Compile model\n",
    "model.compile(loss='mse',\n",
    "              optimizer='adam',\n",
    "              metrics=[r2_keras])\n",
    "\n",
    "# Output summary of model\n",
    "print(model.summary())\n",
    "\n"
   ]
  },
  {
   "cell_type": "markdown",
   "metadata": {},
   "source": [
    "## Train the model\n",
    "We also output the mean squared error and R2-score as evaluation metrics"
   ]
  },
  {
   "cell_type": "code",
   "execution_count": 4,
   "metadata": {
    "scrolled": true
   },
   "outputs": [
    {
     "name": "stderr",
     "output_type": "stream",
     "text": [
      "W0803 14:28:46.498846 140437615535744 deprecation_wrapper.py:119] From /home/ulvik/.local/lib/python3.7/site-packages/keras/backend/tensorflow_backend.py:986: The name tf.assign_add is deprecated. Please use tf.compat.v1.assign_add instead.\n",
      "\n",
      "W0803 14:28:46.625821 140437615535744 deprecation_wrapper.py:119] From /home/ulvik/.local/lib/python3.7/site-packages/keras/backend/tensorflow_backend.py:973: The name tf.assign is deprecated. Please use tf.compat.v1.assign instead.\n",
      "\n"
     ]
    },
    {
     "name": "stdout",
     "output_type": "stream",
     "text": [
      "Train on 4498 samples, validate on 500 samples\n",
      "Epoch 1/25\n",
      "4498/4498 [==============================] - 2s 537us/step - loss: 119.1041 - r2_keras: -1420.2328 - val_loss: 1.1107 - val_r2_keras: -13.4540\n",
      "Epoch 2/25\n",
      "4498/4498 [==============================] - 2s 472us/step - loss: 0.5213 - r2_keras: -5.4539 - val_loss: 0.6366 - val_r2_keras: -7.4491\n",
      "Epoch 3/25\n",
      "4498/4498 [==============================] - 2s 476us/step - loss: 0.3437 - r2_keras: -3.2865 - val_loss: 0.5551 - val_r2_keras: -6.4197\n",
      "Epoch 4/25\n",
      "4498/4498 [==============================] - 2s 502us/step - loss: 0.2930 - r2_keras: -2.6391 - val_loss: 0.5147 - val_r2_keras: -5.9154\n",
      "Epoch 5/25\n",
      "4498/4498 [==============================] - 2s 493us/step - loss: 0.2581 - r2_keras: -2.2218 - val_loss: 0.4869 - val_r2_keras: -5.5798\n",
      "Epoch 6/25\n",
      "4498/4498 [==============================] - 2s 494us/step - loss: 0.2288 - r2_keras: -1.8402 - val_loss: 0.4625 - val_r2_keras: -5.2784\n",
      "Epoch 7/25\n",
      "4498/4498 [==============================] - 2s 495us/step - loss: 0.2026 - r2_keras: -1.5209 - val_loss: 0.4436 - val_r2_keras: -5.0514\n",
      "Epoch 8/25\n",
      "4498/4498 [==============================] - 3s 621us/step - loss: 0.1794 - r2_keras: -1.2269 - val_loss: 0.3651 - val_r2_keras: -3.9591\n",
      "Epoch 9/25\n",
      "4498/4498 [==============================] - 3s 563us/step - loss: 0.1555 - r2_keras: -0.9273 - val_loss: 0.3835 - val_r2_keras: -4.2871\n",
      "Epoch 10/25\n",
      "4498/4498 [==============================] - 3s 600us/step - loss: 0.1365 - r2_keras: -0.6956 - val_loss: 0.5350 - val_r2_keras: -6.4542\n",
      "Epoch 11/25\n",
      "4498/4498 [==============================] - 2s 547us/step - loss: 0.1132 - r2_keras: -0.3966 - val_loss: 0.3908 - val_r2_keras: -4.4349\n",
      "Epoch 12/25\n",
      "4498/4498 [==============================] - 2s 522us/step - loss: 0.0924 - r2_keras: -0.1418 - val_loss: 0.2575 - val_r2_keras: -2.5519\n",
      "Epoch 13/25\n",
      "4498/4498 [==============================] - 2s 528us/step - loss: 0.0880 - r2_keras: -0.0920 - val_loss: 0.1653 - val_r2_keras: -1.2279\n",
      "Epoch 14/25\n",
      "4498/4498 [==============================] - 2s 535us/step - loss: 0.0836 - r2_keras: -0.0339 - val_loss: 0.0829 - val_r2_keras: -0.0506\n",
      "Epoch 15/25\n",
      "4498/4498 [==============================] - 2s 554us/step - loss: 0.0782 - r2_keras: 0.0316 - val_loss: 0.0857 - val_r2_keras: -0.0939\n",
      "Epoch 16/25\n",
      "4498/4498 [==============================] - 3s 566us/step - loss: 0.0757 - r2_keras: 0.0617 - val_loss: 0.1297 - val_r2_keras: -0.7272\n",
      "Epoch 17/25\n",
      "4498/4498 [==============================] - 2s 547us/step - loss: 0.0742 - r2_keras: 0.0777 - val_loss: 0.1997 - val_r2_keras: -1.7364\n",
      "Epoch 18/25\n",
      "4498/4498 [==============================] - 2s 525us/step - loss: 0.0726 - r2_keras: 0.1037 - val_loss: 0.3509 - val_r2_keras: -3.9059\n",
      "Epoch 19/25\n",
      "4498/4498 [==============================] - 2s 540us/step - loss: 0.0698 - r2_keras: 0.1392 - val_loss: 0.4409 - val_r2_keras: -5.2136\n",
      "Epoch 20/25\n",
      "4498/4498 [==============================] - 2s 536us/step - loss: 0.0716 - r2_keras: 0.1162 - val_loss: 0.7162 - val_r2_keras: -9.1697\n",
      "Epoch 21/25\n",
      "4498/4498 [==============================] - 2s 549us/step - loss: 0.0655 - r2_keras: 0.1914 - val_loss: 0.7532 - val_r2_keras: -9.7075\n",
      "Epoch 22/25\n",
      "4498/4498 [==============================] - 2s 496us/step - loss: 0.0622 - r2_keras: 0.2311 - val_loss: 0.7919 - val_r2_keras: -10.2662\n",
      "Epoch 23/25\n",
      "4498/4498 [==============================] - 2s 511us/step - loss: 0.0613 - r2_keras: 0.2402 - val_loss: 0.6976 - val_r2_keras: -8.8929\n",
      "Epoch 24/25\n",
      "4498/4498 [==============================] - 2s 517us/step - loss: 0.0701 - r2_keras: 0.1346 - val_loss: 0.7511 - val_r2_keras: -9.6792\n",
      "Epoch 25/25\n",
      "4498/4498 [==============================] - 3s 606us/step - loss: 0.0846 - r2_keras: -0.0540 - val_loss: 0.5302 - val_r2_keras: -6.4641\n"
     ]
    }
   ],
   "source": [
    "# Parameters for the model\n",
    "batch_size = 32\n",
    "epochs = 25\n",
    "\n",
    "history = model.fit(x_train, y_train, \n",
    "                    batch_size=batch_size, \n",
    "                    epochs=epochs, \n",
    "                    validation_data=(x_test, y_test), \n",
    "                    shuffle=True)"
   ]
  },
  {
   "cell_type": "markdown",
   "metadata": {},
   "source": [
    "## Plot history of metrics on training and test set"
   ]
  },
  {
   "cell_type": "code",
   "execution_count": 5,
   "metadata": {},
   "outputs": [
    {
     "data": {
      "image/png": "[encoded data removed]",
      "text/plain": [
       "<Figure size 432x288 with 1 Axes>"
      ]
     },
     "metadata": {
      "needs_background": "light"
     },
     "output_type": "display_data"
    },
    {
     "data": {
      "image/png": "[encoded data removed]",
      "text/plain": [
       "<Figure size 432x288 with 1 Axes>"
      ]
     },
     "metadata": {
      "needs_background": "light"
     },
     "output_type": "display_data"
    }
   ],
   "source": [
    "%matplotlib inline\n",
    "\n",
    "plt.plot(history.history['r2_keras'])\n",
    "plt.plot(history.history['val_r2_keras'])\n",
    "plt.title('model R2 score')\n",
    "plt.ylabel('R2 score')\n",
    "plt.xlabel('epoch')\n",
    "plt.axis(ymin=0, ymax=1) # limit to view the interesting part of R2\n",
    "plt.legend(['train', 'test'], loc='upper left')\n",
    "plt.show()\n",
    "# summarize history for loss\n",
    "plt.plot(history.history['loss'])\n",
    "plt.plot(history.history['val_loss'])\n",
    "plt.title('model loss (mse)')\n",
    "plt.ylabel('loss')\n",
    "plt.xlabel('epoch')\n",
    "plt.legend(['train', 'test'], loc='upper left')\n",
    "plt.show()"
   ]
  }
 ],
 "metadata": {
  "kernelspec": {
   "display_name": "Python 3",
   "language": "python",
   "name": "python3"
  },
  "language_info": {
   "codemirror_mode": {
    "name": "ipython",
    "version": 3
   },
   "file_extension": ".py",
   "mimetype": "text/x-python",
   "name": "python",
   "nbconvert_exporter": "python",
   "pygments_lexer": "ipython3",
   "version": "3.7.4"
  }
 },
 "nbformat": 4,
 "nbformat_minor": 2
}
