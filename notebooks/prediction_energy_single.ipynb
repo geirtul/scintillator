{
 "cells": [
  {
   "cell_type": "markdown",
   "metadata": {},
   "source": [
    "# Prediction of energy for single electron event\n",
    "This notebook aims to build a model able to predict the energy of the electron on a single-electron event."
   ]
  },
  {
   "cell_type": "code",
   "execution_count": 1,
   "metadata": {},
   "outputs": [
    {
     "name": "stdout",
     "output_type": "stream",
     "text": [
      "Image data shape: (20000, 16, 16, 1)\n",
      "Energies shape: (20000,)\n",
      "Positions shape: (20000, 4)\n"
     ]
    }
   ],
   "source": [
    "\"\"\"\n",
    "Here are the data files.  For all data files each image and label is on one row.  \n",
    "The first 256 values in each row correspond to the 16x16 detector image and \n",
    "the last 6 values correspond to Energy1, Xpos1, Ypos1, Energy2, Xpos2, Ypos2.  \n",
    "If there is no second particle then Energy2 = 0 and Xpos2 and Ypos2 are both -100.  \n",
    "(When I run my model, I have to reset the -100 to 0).\n",
    " \n",
    "CeBr10kSingle are 10,000 rows of data and labels for single interactions in the detector\n",
    "CeBr10k_1.txt is 10,000 rows of data and labels with a mix of single interactions and double interactions\n",
    "CeBr10.txt is a small file I use which contains 10 single interactions.\n",
    "\"\"\"\n",
    "\n",
    "import numpy as np\n",
    "import matplotlib.pyplot as plt\n",
    "from data_functions import separate_simulated_data\n",
    "\n",
    "# File import\n",
    "PATH = \"../data/small_sample/\"\n",
    "filenames = [\"CeBr10kSingle_1.txt\", \"CeBr10kSingle_2.txt\", \"CeBr10k_1.txt\", \"CeBr10.txt\"]\n",
    "\n",
    "## single, mix, small define which dataset to load.\n",
    "file_to_load = \"combined_single\"\n",
    "\n",
    "if file_to_load == \"single_1\":\n",
    "    infile = PATH+filenames[0]\n",
    "if file_to_load == \"single_2\":\n",
    "    infile = PATH+filenames[1]\n",
    "if file_to_load == \"mix\":\n",
    "    infile = PATH+filenames[2]\n",
    "if file_to_load == \"small\":\n",
    "    infile = PATH+filenames[3]\n",
    "if file_to_load == \"combined_single\":\n",
    "    infile = PATH+filenames[0]\n",
    "    infile2 = PATH+filenames[1]\n",
    "\n",
    "data = np.loadtxt(infile)\n",
    "\n",
    "if file_to_load == \"combined_single\":\n",
    "    data2 = np.loadtxt(infile2)\n",
    "    data = np.concatenate((data, data2))\n",
    "    \n",
    "images, energies, positions = separate_simulated_data(data)\n",
    "single_energies = energies[:,0]\n",
    "\n",
    "\n",
    "print(\"Image data shape: {}\".format(images.shape))\n",
    "print(\"Energies shape: {}\".format(energies.shape))\n",
    "print(\"Positions shape: {}\".format(positions.shape))\n",
    "print(\"Single energies shape: {}\".format(single_energies.shape)\n",
    "      "
   ]
  },
  {
   "cell_type": "markdown",
   "metadata": {},
   "source": [
    "\n",
    "## Set up training and test data"
   ]
  },
  {
   "cell_type": "code",
   "execution_count": 2,
   "metadata": {},
   "outputs": [
    {
     "name": "stdout",
     "output_type": "stream",
     "text": [
      "Training and test data shapes:\n",
      "x_train: (16000, 16, 16, 1)\n",
      "x_test: (4000, 16, 16, 1)\n",
      "y_train: (16000,)\n",
      "y_test: (4000,)\n"
     ]
    }
   ],
   "source": [
    "from sklearn.model_selection import train_test_split\n",
    "\n",
    "# Split the data into training and test sets\n",
    "x_train, x_test, y_train, y_test = train_test_split(images, single_energies, test_size = 0.2)\n",
    "print(\"Training and test data shapes:\")\n",
    "print(\"x_train: {}\".format(x_train.shape))\n",
    "print(\"x_test: {}\".format(x_test.shape))\n",
    "print(\"y_train: {}\".format(y_train.shape))\n",
    "print(\"y_test: {}\".format(y_test.shape))\n",
    "\n",
    "\n"
   ]
  },
  {
   "cell_type": "markdown",
   "metadata": {},
   "source": [
    "## Build and compile model\n",
    "Using Keras as our framework with Tensorflow backend"
   ]
  },
  {
   "cell_type": "code",
   "execution_count": 3,
   "metadata": {},
   "outputs": [
    {
     "name": "stderr",
     "output_type": "stream",
     "text": [
      "Using TensorFlow backend.\n",
      "/home/ulvik/.local/lib/python3.7/site-packages/tensorflow/python/framework/dtypes.py:516: FutureWarning: Passing (type, 1) or '1type' as a synonym of type is deprecated; in a future version of numpy, it will be understood as (type, (1,)) / '(1,)type'.\n",
      "  _np_qint8 = np.dtype([(\"qint8\", np.int8, 1)])\n",
      "/home/ulvik/.local/lib/python3.7/site-packages/tensorflow/python/framework/dtypes.py:517: FutureWarning: Passing (type, 1) or '1type' as a synonym of type is deprecated; in a future version of numpy, it will be understood as (type, (1,)) / '(1,)type'.\n",
      "  _np_quint8 = np.dtype([(\"quint8\", np.uint8, 1)])\n",
      "/home/ulvik/.local/lib/python3.7/site-packages/tensorflow/python/framework/dtypes.py:518: FutureWarning: Passing (type, 1) or '1type' as a synonym of type is deprecated; in a future version of numpy, it will be understood as (type, (1,)) / '(1,)type'.\n",
      "  _np_qint16 = np.dtype([(\"qint16\", np.int16, 1)])\n",
      "/home/ulvik/.local/lib/python3.7/site-packages/tensorflow/python/framework/dtypes.py:519: FutureWarning: Passing (type, 1) or '1type' as a synonym of type is deprecated; in a future version of numpy, it will be understood as (type, (1,)) / '(1,)type'.\n",
      "  _np_quint16 = np.dtype([(\"quint16\", np.uint16, 1)])\n",
      "/home/ulvik/.local/lib/python3.7/site-packages/tensorflow/python/framework/dtypes.py:520: FutureWarning: Passing (type, 1) or '1type' as a synonym of type is deprecated; in a future version of numpy, it will be understood as (type, (1,)) / '(1,)type'.\n",
      "  _np_qint32 = np.dtype([(\"qint32\", np.int32, 1)])\n",
      "/home/ulvik/.local/lib/python3.7/site-packages/tensorflow/python/framework/dtypes.py:525: FutureWarning: Passing (type, 1) or '1type' as a synonym of type is deprecated; in a future version of numpy, it will be understood as (type, (1,)) / '(1,)type'.\n",
      "  np_resource = np.dtype([(\"resource\", np.ubyte, 1)])\n",
      "/home/ulvik/.local/lib/python3.7/site-packages/tensorboard/compat/tensorflow_stub/dtypes.py:541: FutureWarning: Passing (type, 1) or '1type' as a synonym of type is deprecated; in a future version of numpy, it will be understood as (type, (1,)) / '(1,)type'.\n",
      "  _np_qint8 = np.dtype([(\"qint8\", np.int8, 1)])\n",
      "/home/ulvik/.local/lib/python3.7/site-packages/tensorboard/compat/tensorflow_stub/dtypes.py:542: FutureWarning: Passing (type, 1) or '1type' as a synonym of type is deprecated; in a future version of numpy, it will be understood as (type, (1,)) / '(1,)type'.\n",
      "  _np_quint8 = np.dtype([(\"quint8\", np.uint8, 1)])\n",
      "/home/ulvik/.local/lib/python3.7/site-packages/tensorboard/compat/tensorflow_stub/dtypes.py:543: FutureWarning: Passing (type, 1) or '1type' as a synonym of type is deprecated; in a future version of numpy, it will be understood as (type, (1,)) / '(1,)type'.\n",
      "  _np_qint16 = np.dtype([(\"qint16\", np.int16, 1)])\n",
      "/home/ulvik/.local/lib/python3.7/site-packages/tensorboard/compat/tensorflow_stub/dtypes.py:544: FutureWarning: Passing (type, 1) or '1type' as a synonym of type is deprecated; in a future version of numpy, it will be understood as (type, (1,)) / '(1,)type'.\n",
      "  _np_quint16 = np.dtype([(\"quint16\", np.uint16, 1)])\n",
      "/home/ulvik/.local/lib/python3.7/site-packages/tensorboard/compat/tensorflow_stub/dtypes.py:545: FutureWarning: Passing (type, 1) or '1type' as a synonym of type is deprecated; in a future version of numpy, it will be understood as (type, (1,)) / '(1,)type'.\n",
      "  _np_qint32 = np.dtype([(\"qint32\", np.int32, 1)])\n",
      "/home/ulvik/.local/lib/python3.7/site-packages/tensorboard/compat/tensorflow_stub/dtypes.py:550: FutureWarning: Passing (type, 1) or '1type' as a synonym of type is deprecated; in a future version of numpy, it will be understood as (type, (1,)) / '(1,)type'.\n",
      "  np_resource = np.dtype([(\"resource\", np.ubyte, 1)])\n",
      "WARNING: Logging before flag parsing goes to stderr.\n",
      "W0803 11:12:20.939889 139922575951488 deprecation_wrapper.py:119] From /home/ulvik/.local/lib/python3.7/site-packages/keras/backend/tensorflow_backend.py:74: The name tf.get_default_graph is deprecated. Please use tf.compat.v1.get_default_graph instead.\n",
      "\n",
      "W0803 11:12:20.959957 139922575951488 deprecation_wrapper.py:119] From /home/ulvik/.local/lib/python3.7/site-packages/keras/backend/tensorflow_backend.py:517: The name tf.placeholder is deprecated. Please use tf.compat.v1.placeholder instead.\n",
      "\n",
      "W0803 11:12:20.964875 139922575951488 deprecation_wrapper.py:119] From /home/ulvik/.local/lib/python3.7/site-packages/keras/backend/tensorflow_backend.py:4138: The name tf.random_uniform is deprecated. Please use tf.random.uniform instead.\n",
      "\n",
      "W0803 11:12:21.031066 139922575951488 deprecation_wrapper.py:119] From /home/ulvik/.local/lib/python3.7/site-packages/keras/optimizers.py:790: The name tf.train.Optimizer is deprecated. Please use tf.compat.v1.train.Optimizer instead.\n",
      "\n"
     ]
    }
   ],
   "source": [
    "from keras.models import Sequential\n",
    "from keras.layers import Dense, Dropout, Flatten, Activation\n",
    "from keras.layers import Conv2D, MaxPooling2D\n",
    "from keras import backend\n",
    "\n",
    "# Set up sequetial model based on Keras CIFAR-10 example\n",
    "model = Sequential()\n",
    "\n",
    "# Add layers\n",
    "model.add(Conv2D(32, (3, 3), padding='same',\n",
    "                 input_shape=x_train.shape[1:]))\n",
    "model.add(Activation('relu'))\n",
    "#model.add(Conv2D(32, (3, 3)))\n",
    "#model.add(Activation('relu'))\n",
    "#model.add(MaxPooling2D(pool_size=(2, 2)))\n",
    "#model.add(Dropout(0.25))\n",
    "\n",
    "#model.add(Conv2D(64, (3, 3), padding='same'))\n",
    "#model.add(Activation('relu'))\n",
    "#model.add(Conv2D(64, (3, 3)))\n",
    "#model.add(Activation('relu'))\n",
    "#model.add(MaxPooling2D(pool_size=(2, 2)))\n",
    "#model.add(Dropout(0.25))\n",
    "\n",
    "model.add(Flatten())\n",
    "#model.add(Dense(128))\n",
    "#model.add(Activation('relu'))\n",
    "#model.add(Dropout(0.5))\n",
    "model.add(Dense(1))\n",
    "model.add(Activation('linear'))\n",
    "\n",
    "\n",
    "\n",
    "# Custom definition of R2 score for metrics\n",
    "def r2_keras(y_true, y_pred):\n",
    "    SS_res =  backend.sum(backend.square(y_true - y_pred)) \n",
    "    SS_tot = backend.sum(backend.square(y_true - backend.mean(y_true))) \n",
    "    return ( 1 - SS_res/(SS_tot + backend.epsilon()) )\n",
    "\n",
    "# Compile model\n",
    "model.compile(loss='mse',\n",
    "              optimizer='adam',\n",
    "              metrics=[r2_keras])\n",
    "\n",
    "# Output summary of model\n",
    "print(model.summary())\n",
    "\n"
   ]
  },
  {
   "cell_type": "markdown",
   "metadata": {},
   "source": [
    "## Train the model\n",
    "We also output the mean squared error and R2-score as evaluation metrics"
   ]
  },
  {
   "cell_type": "code",
   "execution_count": 4,
   "metadata": {
    "scrolled": true
   },
   "outputs": [
    {
     "name": "stderr",
     "output_type": "stream",
     "text": [
      "W0803 11:12:21.211732 139922575951488 deprecation_wrapper.py:119] From /home/ulvik/.local/lib/python3.7/site-packages/keras/backend/tensorflow_backend.py:986: The name tf.assign_add is deprecated. Please use tf.compat.v1.assign_add instead.\n",
      "\n",
      "W0803 11:12:21.307457 139922575951488 deprecation_wrapper.py:119] From /home/ulvik/.local/lib/python3.7/site-packages/keras/backend/tensorflow_backend.py:973: The name tf.assign is deprecated. Please use tf.compat.v1.assign instead.\n",
      "\n"
     ]
    },
    {
     "name": "stdout",
     "output_type": "stream",
     "text": [
      "Train on 16000 samples, validate on 4000 samples\n",
      "Epoch 1/25\n",
      "16000/16000 [==============================] - 3s 206us/step - loss: 252.0087 - r2_keras: -3227.4905 - val_loss: 35.4326 - val_r2_keras: -442.2082\n",
      "Epoch 2/25\n",
      "16000/16000 [==============================] - 3s 178us/step - loss: 17.1191 - r2_keras: -213.8956 - val_loss: 10.9362 - val_r2_keras: -137.9067\n",
      "Epoch 3/25\n",
      "16000/16000 [==============================] - 4s 233us/step - loss: 8.6680 - r2_keras: -107.7477 - val_loss: 5.7646 - val_r2_keras: -70.7845\n",
      "Epoch 4/25\n",
      "16000/16000 [==============================] - 4s 227us/step - loss: 4.9636 - r2_keras: -61.0875 - val_loss: 4.2622 - val_r2_keras: -52.3079\n",
      "Epoch 5/25\n",
      "16000/16000 [==============================] - 2s 151us/step - loss: 3.5071 - r2_keras: -42.9289 - val_loss: 2.7198 - val_r2_keras: -33.2541\n",
      "Epoch 6/25\n",
      "16000/16000 [==============================] - 2s 153us/step - loss: 2.5729 - r2_keras: -31.0265 - val_loss: 2.5141 - val_r2_keras: -30.7552\n",
      "Epoch 7/25\n",
      "16000/16000 [==============================] - 2s 153us/step - loss: 2.0386 - r2_keras: -24.5935 - val_loss: 1.6753 - val_r2_keras: -19.8333\n",
      "Epoch 8/25\n",
      "16000/16000 [==============================] - 2s 151us/step - loss: 1.4039 - r2_keras: -16.7209 - val_loss: 1.0780 - val_r2_keras: -12.4007\n",
      "Epoch 9/25\n",
      "16000/16000 [==============================] - 2s 153us/step - loss: 1.0010 - r2_keras: -11.5123 - val_loss: 0.8751 - val_r2_keras: -9.9184\n",
      "Epoch 10/25\n",
      "16000/16000 [==============================] - 2s 154us/step - loss: 0.6491 - r2_keras: -7.1299 - val_loss: 0.5595 - val_r2_keras: -5.9580\n",
      "Epoch 11/25\n",
      "16000/16000 [==============================] - 2s 154us/step - loss: 0.4633 - r2_keras: -4.8264 - val_loss: 0.3801 - val_r2_keras: -3.7352\n",
      "Epoch 12/25\n",
      "16000/16000 [==============================] - 2s 153us/step - loss: 0.3236 - r2_keras: -3.0761 - val_loss: 0.2892 - val_r2_keras: -2.5969\n",
      "Epoch 13/25\n",
      "16000/16000 [==============================] - 2s 152us/step - loss: 0.2241 - r2_keras: -1.8092 - val_loss: 0.1922 - val_r2_keras: -1.4120\n",
      "Epoch 14/25\n",
      "16000/16000 [==============================] - 2s 152us/step - loss: 0.1400 - r2_keras: -0.7617 - val_loss: 0.1212 - val_r2_keras: -0.5146\n",
      "Epoch 15/25\n",
      "16000/16000 [==============================] - 2s 155us/step - loss: 0.0909 - r2_keras: -0.1424 - val_loss: 0.0674 - val_r2_keras: 0.1638\n",
      "Epoch 16/25\n",
      "16000/16000 [==============================] - 2s 153us/step - loss: 0.0554 - r2_keras: 0.3067 - val_loss: 0.0474 - val_r2_keras: 0.4113\n",
      "Epoch 17/25\n",
      "16000/16000 [==============================] - 2s 154us/step - loss: 0.0364 - r2_keras: 0.5462 - val_loss: 0.0274 - val_r2_keras: 0.6612\n",
      "Epoch 18/25\n",
      "16000/16000 [==============================] - 2s 155us/step - loss: 0.0289 - r2_keras: 0.6390 - val_loss: 0.0349 - val_r2_keras: 0.5673\n",
      "Epoch 19/25\n",
      "16000/16000 [==============================] - 2s 155us/step - loss: 0.0161 - r2_keras: 0.7972 - val_loss: 0.0179 - val_r2_keras: 0.7841\n",
      "Epoch 20/25\n",
      "16000/16000 [==============================] - 2s 155us/step - loss: 0.0098 - r2_keras: 0.8762 - val_loss: 0.0073 - val_r2_keras: 0.9091\n",
      "Epoch 21/25\n",
      "16000/16000 [==============================] - 2s 154us/step - loss: 0.0088 - r2_keras: 0.8904 - val_loss: 0.0063 - val_r2_keras: 0.9222\n",
      "Epoch 22/25\n",
      "16000/16000 [==============================] - 2s 155us/step - loss: 0.0075 - r2_keras: 0.9050 - val_loss: 0.0068 - val_r2_keras: 0.9171\n",
      "Epoch 23/25\n",
      "16000/16000 [==============================] - 2s 155us/step - loss: 0.0052 - r2_keras: 0.9348 - val_loss: 0.0050 - val_r2_keras: 0.9393\n",
      "Epoch 24/25\n",
      "16000/16000 [==============================] - 2s 155us/step - loss: 0.0043 - r2_keras: 0.9466 - val_loss: 0.0102 - val_r2_keras: 0.8738\n",
      "Epoch 25/25\n",
      "16000/16000 [==============================] - 3s 186us/step - loss: 0.0047 - r2_keras: 0.9411 - val_loss: 0.0036 - val_r2_keras: 0.9567\n"
     ]
    }
   ],
   "source": [
    "# Parameters for the model\n",
    "batch_size = 32\n",
    "epochs = 25\n",
    "\n",
    "history = model.fit(x_train, y_train, \n",
    "                    batch_size=batch_size, \n",
    "                    epochs=epochs, \n",
    "                    validation_data=(x_test, y_test), \n",
    "                    shuffle=True)"
   ]
  },
  {
   "cell_type": "markdown",
   "metadata": {},
   "source": [
    "## Plot history of metrics on training and test set"
   ]
  },
  {
   "cell_type": "code",
   "execution_count": 8,
   "metadata": {},
   "outputs": [
    {
     "data": {
      "image/png": "[encoded data removed]",
      "text/plain": [
       "<Figure size 432x288 with 1 Axes>"
      ]
     },
     "metadata": {
      "needs_background": "light"
     },
     "output_type": "display_data"
    },
    {
     "data": {
      "image/png": "[encoded data removed]",
      "text/plain": [
       "<Figure size 432x288 with 1 Axes>"
      ]
     },
     "metadata": {
      "needs_background": "light"
     },
     "output_type": "display_data"
    }
   ],
   "source": [
    "%matplotlib inline\n",
    "\n",
    "plt.plot(history.history['r2_keras'])\n",
    "plt.plot(history.history['val_r2_keras'])\n",
    "plt.title('model R2 score')\n",
    "plt.ylabel('R2 score')\n",
    "plt.xlabel('epoch')\n",
    "plt.axis(ymin=0, ymax=1) # limit to view the interesting part of R2\n",
    "plt.legend(['train', 'test'], loc='upper left')\n",
    "plt.show()\n",
    "# summarize history for loss\n",
    "plt.plot(history.history['loss'])\n",
    "plt.plot(history.history['val_loss'])\n",
    "plt.title('model loss (mse)')\n",
    "plt.ylabel('loss')\n",
    "plt.xlabel('epoch')\n",
    "plt.legend(['train', 'test'], loc='upper left')\n",
    "plt.show()"
   ]
  }
 ],
 "metadata": {
  "kernelspec": {
   "display_name": "Python 3",
   "language": "python",
   "name": "python3"
  },
  "language_info": {
   "codemirror_mode": {
    "name": "ipython",
    "version": 3
   },
   "file_extension": ".py",
   "mimetype": "text/x-python",
   "name": "python",
   "nbconvert_exporter": "python",
   "pygments_lexer": "ipython3",
   "version": "3.7.4"
  }
 },
 "nbformat": 4,
 "nbformat_minor": 2
}
